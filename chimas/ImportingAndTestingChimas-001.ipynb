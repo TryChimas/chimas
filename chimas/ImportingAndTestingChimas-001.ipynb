{
 "cells": [
  {
   "cell_type": "markdown",
   "metadata": {},
   "source": [
    "# Importing and testing Chimas\n",
    "\n",
    "## or\n",
    "\n",
    "## Using Jupyter Notebook for Unit Testing"
   ]
  },
  {
   "cell_type": "markdown",
   "metadata": {},
   "source": [
    "As 'chimas' python package is not installed by `pip` and it is in the current directory, we cannot import it."
   ]
  },
  {
   "cell_type": "code",
   "execution_count": 4,
   "metadata": {
    "collapsed": false
   },
   "outputs": [
    {
     "ename": "ImportError",
     "evalue": "No module named 'chimas'",
     "output_type": "error",
     "traceback": [
      "\u001b[0;31m---------------------------------------------------------------------------\u001b[0m",
      "\u001b[0;31mImportError\u001b[0m                               Traceback (most recent call last)",
      "\u001b[0;32m<ipython-input-4-3ee6eb7b75fa>\u001b[0m in \u001b[0;36m<module>\u001b[0;34m()\u001b[0m\n\u001b[0;32m----> 1\u001b[0;31m \u001b[0;32mimport\u001b[0m \u001b[0mchimas\u001b[0m\u001b[0;34m\u001b[0m\u001b[0m\n\u001b[0m",
      "\u001b[0;31mImportError\u001b[0m: No module named 'chimas'"
     ]
    }
   ],
   "source": [
    "import chimas"
   ]
  },
  {
   "cell_type": "markdown",
   "metadata": {},
   "source": [
    "### But maybe we can if...\n",
    "\n",
    "As seen here http://stackoverflow.com/questions/1112618/import-python-package-from-local-directory-into-interpreter\n",
    "\n",
    "But maybe we can if we add the parent directory to the python's `sys.path`"
   ]
  },
  {
   "cell_type": "code",
   "execution_count": 5,
   "metadata": {
    "collapsed": false
   },
   "outputs": [
    {
     "data": {
      "text/plain": [
       "['',\n",
       " '/home/iacchus/git-stuff/chimas',\n",
       " '/home/iacchus/git-stuff/chimas/venv/lib/python35.zip',\n",
       " '/home/iacchus/git-stuff/chimas/venv/lib/python3.5',\n",
       " '/home/iacchus/git-stuff/chimas/venv/lib/python3.5/plat-linux',\n",
       " '/home/iacchus/git-stuff/chimas/venv/lib/python3.5/lib-dynload',\n",
       " '/usr/lib64/python3.5',\n",
       " '/usr/lib/python3.5',\n",
       " '/usr/lib/python3.5/plat-linux',\n",
       " '/home/iacchus/git-stuff/chimas/venv/lib/python3.5/site-packages',\n",
       " '/home/iacchus/git-stuff/chimas/venv/lib/python3.5/site-packages/IPython/extensions',\n",
       " '/home/iacchus/.ipython']"
      ]
     },
     "execution_count": 5,
     "metadata": {},
     "output_type": "execute_result"
    }
   ],
   "source": [
    "import sys\n",
    "sys.path"
   ]
  },
  {
   "cell_type": "code",
   "execution_count": 6,
   "metadata": {
    "collapsed": false
   },
   "outputs": [
    {
     "data": {
      "text/plain": [
       "'/home/iacchus/git-stuff'"
      ]
     },
     "execution_count": 6,
     "metadata": {},
     "output_type": "execute_result"
    }
   ],
   "source": [
    "from pathlib import Path\n",
    "parent_directory = str(Path().resolve().parent)\n",
    "\n",
    "parent_directory"
   ]
  },
  {
   "cell_type": "code",
   "execution_count": 7,
   "metadata": {
    "collapsed": true
   },
   "outputs": [],
   "source": [
    "sys.path.append(parent_directory)"
   ]
  },
  {
   "cell_type": "code",
   "execution_count": 8,
   "metadata": {
    "collapsed": false
   },
   "outputs": [
    {
     "data": {
      "text/plain": [
       "['',\n",
       " '/home/iacchus/git-stuff/chimas',\n",
       " '/home/iacchus/git-stuff/chimas/venv/lib/python35.zip',\n",
       " '/home/iacchus/git-stuff/chimas/venv/lib/python3.5',\n",
       " '/home/iacchus/git-stuff/chimas/venv/lib/python3.5/plat-linux',\n",
       " '/home/iacchus/git-stuff/chimas/venv/lib/python3.5/lib-dynload',\n",
       " '/usr/lib64/python3.5',\n",
       " '/usr/lib/python3.5',\n",
       " '/usr/lib/python3.5/plat-linux',\n",
       " '/home/iacchus/git-stuff/chimas/venv/lib/python3.5/site-packages',\n",
       " '/home/iacchus/git-stuff/chimas/venv/lib/python3.5/site-packages/IPython/extensions',\n",
       " '/home/iacchus/.ipython',\n",
       " '/home/iacchus/git-stuff']"
      ]
     },
     "execution_count": 8,
     "metadata": {},
     "output_type": "execute_result"
    }
   ],
   "source": [
    "sys.path"
   ]
  },
  {
   "cell_type": "markdown",
   "metadata": {},
   "source": [
    "### So...\n",
    "\n",
    "..let's try again!"
   ]
  },
  {
   "cell_type": "code",
   "execution_count": 9,
   "metadata": {
    "collapsed": false
   },
   "outputs": [
    {
     "name": "stdout",
     "output_type": "stream",
     "text": [
      "HEllo i am core.__init__ and __file__ is/home/iacchus/git-stuff/chimas/core/__init__.py\n"
     ]
    }
   ],
   "source": [
    "import chimas"
   ]
  },
  {
   "cell_type": "code",
   "execution_count": 10,
   "metadata": {
    "collapsed": false
   },
   "outputs": [
    {
     "data": {
      "text/plain": [
       "['__builtins__',\n",
       " '__cached__',\n",
       " '__doc__',\n",
       " '__file__',\n",
       " '__loader__',\n",
       " '__name__',\n",
       " '__package__',\n",
       " '__path__',\n",
       " '__spec__',\n",
       " 'core']"
      ]
     },
     "execution_count": 10,
     "metadata": {},
     "output_type": "execute_result"
    }
   ],
   "source": [
    "dir(chimas)"
   ]
  },
  {
   "cell_type": "code",
   "execution_count": 19,
   "metadata": {
    "collapsed": false
   },
   "outputs": [
    {
     "name": "stdout",
     "output_type": "stream",
     "text": [
      "\n",
      "    __BUILTINS__:\n",
      "    \n",
      "    {'__import__': <built-in function __import__>, 'next': <built-in function next>, 'EOFError': <class 'EOFError'>, 'NotImplemented': NotImplemented, 'FileExistsError': <class 'FileExistsError'>, 'getattr': <built-in function getattr>, 'TabError': <class 'TabError'>, 'print': <built-in function print>, '__build_class__': <built-in function __build_class__>, 'globals': <built-in function globals>, 'memoryview': <class 'memoryview'>, 'slice': <class 'slice'>, 'EnvironmentError': <class 'OSError'>, '__doc__': \"Built-in functions, exceptions, and other objects.\\n\\nNoteworthy: None is the `nil' object; Ellipsis represents `...' in slices.\", 'SyntaxWarning': <class 'SyntaxWarning'>, 'UnicodeError': <class 'UnicodeError'>, 'ResourceWarning': <class 'ResourceWarning'>, 'dir': <built-in function dir>, '__package__': '', 'ConnectionAbortedError': <class 'ConnectionAbortedError'>, 'FloatingPointError': <class 'FloatingPointError'>, 'KeyError': <class 'KeyError'>, 'any': <built-in function any>, 'tuple': <class 'tuple'>, 'Exception': <class 'Exception'>, 'eval': <built-in function eval>, 'MemoryError': <class 'MemoryError'>, 'NotImplementedError': <class 'NotImplementedError'>, 'abs': <built-in function abs>, 'TimeoutError': <class 'TimeoutError'>, 'IndexError': <class 'IndexError'>, 'pow': <built-in function pow>, 'ConnectionResetError': <class 'ConnectionResetError'>, 'vars': <built-in function vars>, 'NameError': <class 'NameError'>, 'super': <class 'super'>, 'ConnectionRefusedError': <class 'ConnectionRefusedError'>, 'ChildProcessError': <class 'ChildProcessError'>, 'DeprecationWarning': <class 'DeprecationWarning'>, 'enumerate': <class 'enumerate'>, 'frozenset': <class 'frozenset'>, 'StopIteration': <class 'StopIteration'>, 'complex': <class 'complex'>, 'ImportWarning': <class 'ImportWarning'>, 'id': <built-in function id>, 'ord': <built-in function ord>, 'oct': <built-in function oct>, 'object': <class 'object'>, '__debug__': True, 'Ellipsis': Ellipsis, 'ReferenceError': <class 'ReferenceError'>, 'min': <built-in function min>, 'open': <built-in function open>, 'staticmethod': <class 'staticmethod'>, 'hash': <built-in function hash>, 'issubclass': <built-in function issubclass>, 'divmod': <built-in function divmod>, 'BaseException': <class 'BaseException'>, 'isinstance': <built-in function isinstance>, 'BrokenPipeError': <class 'BrokenPipeError'>, 'UnicodeDecodeError': <class 'UnicodeDecodeError'>, 'input': <bound method Kernel.raw_input of <ipykernel.ipkernel.IPythonKernel object at 0x7f257b06fb38>>, 'type': <class 'type'>, 'map': <class 'map'>, 'BytesWarning': <class 'BytesWarning'>, 'round': <built-in function round>, 'RecursionError': <class 'RecursionError'>, 'range': <class 'range'>, 'hasattr': <built-in function hasattr>, 'OSError': <class 'OSError'>, 'AssertionError': <class 'AssertionError'>, 'bool': <class 'bool'>, 'ConnectionError': <class 'ConnectionError'>, 'get_ipython': <bound method InteractiveShell.get_ipython of <ipykernel.zmqshell.ZMQInteractiveShell object at 0x7f2576659a58>>, 'ascii': <built-in function ascii>, 'IOError': <class 'OSError'>, 'TypeError': <class 'TypeError'>, 'sorted': <built-in function sorted>, 'property': <class 'property'>, 'PendingDeprecationWarning': <class 'PendingDeprecationWarning'>, 'SyntaxError': <class 'SyntaxError'>, 'format': <built-in function format>, 'len': <built-in function len>, 'UnicodeTranslateError': <class 'UnicodeTranslateError'>, 'callable': <built-in function callable>, 'repr': <built-in function repr>, 'RuntimeWarning': <class 'RuntimeWarning'>, 'zip': <class 'zip'>, 'int': <class 'int'>, 'locals': <built-in function locals>, 'BlockingIOError': <class 'BlockingIOError'>, 'bytes': <class 'bytes'>, 'max': <built-in function max>, 'LookupError': <class 'LookupError'>, 'classmethod': <class 'classmethod'>, 'ValueError': <class 'ValueError'>, 'all': <built-in function all>, 'setattr': <built-in function setattr>, 'ProcessLookupError': <class 'ProcessLookupError'>, 'str': <class 'str'>, 'KeyboardInterrupt': <class 'KeyboardInterrupt'>, 'True': True, 'bytearray': <class 'bytearray'>, 'SystemExit': <class 'SystemExit'>, 'IsADirectoryError': <class 'IsADirectoryError'>, '__name__': 'builtins', 'UnicodeWarning': <class 'UnicodeWarning'>, 'set': <class 'set'>, 'help': Type help() for interactive help, or help(object) for help about object., 'False': False, 'OverflowError': <class 'OverflowError'>, 'SystemError': <class 'SystemError'>, 'ImportError': <class 'ImportError'>, 'reversed': <class 'reversed'>, 'credits':     Thanks to CWI, CNRI, BeOpen.com, Zope Corporation and a cast of thousands\n",
      "    for supporting Python development.  See www.python.org for more information., '__IPYTHON__': True, 'UserWarning': <class 'UserWarning'>, 'float': <class 'float'>, 'RuntimeError': <class 'RuntimeError'>, 'BufferError': <class 'BufferError'>, 'FutureWarning': <class 'FutureWarning'>, 'StopAsyncIteration': <class 'StopAsyncIteration'>, '__spec__': ModuleSpec(name='builtins', loader=<class '_frozen_importlib.BuiltinImporter'>), 'AttributeError': <class 'AttributeError'>, 'hex': <built-in function hex>, 'ZeroDivisionError': <class 'ZeroDivisionError'>, 'iter': <built-in function iter>, 'chr': <built-in function chr>, 'PermissionError': <class 'PermissionError'>, 'UnboundLocalError': <class 'UnboundLocalError'>, 'UnicodeEncodeError': <class 'UnicodeEncodeError'>, 'dict': <class 'dict'>, 'None': None, 'ArithmeticError': <class 'ArithmeticError'>, 'delattr': <built-in function delattr>, 'IndentationError': <class 'IndentationError'>, 'license': See http://www.python.org/3.5/license.html, 'FileNotFoundError': <class 'FileNotFoundError'>, 'copyright': Copyright (c) 2001-2016 Python Software Foundation.\n",
      "All Rights Reserved.\n",
      "\n",
      "Copyright (c) 2000 BeOpen.com.\n",
      "All Rights Reserved.\n",
      "\n",
      "Copyright (c) 1995-2001 Corporation for National Research Initiatives.\n",
      "All Rights Reserved.\n",
      "\n",
      "Copyright (c) 1991-1995 Stichting Mathematisch Centrum, Amsterdam.\n",
      "All Rights Reserved., 'Warning': <class 'Warning'>, 'list': <class 'list'>, '__loader__': <class '_frozen_importlib.BuiltinImporter'>, 'InterruptedError': <class 'InterruptedError'>, 'GeneratorExit': <class 'GeneratorExit'>, 'bin': <built-in function bin>, 'dreload': <function _dreload at 0x7f25766888c8>, 'NotADirectoryError': <class 'NotADirectoryError'>, 'sum': <built-in function sum>, 'filter': <class 'filter'>, 'exec': <built-in function exec>, 'compile': <built-in function compile>}\n",
      "\n",
      "    __CACHED__:\n",
      "    \n",
      "    /home/iacchus/git-stuff/chimas/__pycache__/__init__.cpython-35.pyc\n",
      "\n",
      "    __DOC__:\n",
      "    \n",
      "    None\n",
      "\n",
      "    __FILE__:\n",
      "    \n",
      "    /home/iacchus/git-stuff/chimas/__init__.py\n",
      "\n",
      "    __LOADER__:\n",
      "    \n",
      "    <_frozen_importlib_external.SourceFileLoader object at 0x7f25667798d0>\n",
      "\n",
      "    __NAME__:\n",
      "    \n",
      "    chimas\n",
      "\n",
      "    __PACKAGE__:\n",
      "    \n",
      "    chimas\n",
      "\n",
      "    __PATH__:\n",
      "    \n",
      "    ['/home/iacchus/git-stuff/chimas']\n",
      "\n",
      "    __SPEC__:\n",
      "    \n",
      "    ModuleSpec(name='chimas', loader=<_frozen_importlib_external.SourceFileLoader object at 0x7f25667798d0>, origin='/home/iacchus/git-stuff/chimas/__init__.py', submodule_search_locations=['/home/iacchus/git-stuff/chimas'])\n",
      "\n",
      "    CORE:\n",
      "    \n",
      "    <module 'chimas.core' from '/home/iacchus/git-stuff/chimas/core/__init__.py'>\n"
     ]
    }
   ],
   "source": [
    "import pprint\n",
    "for attr in dir(chimas):\n",
    "    wat = eval('chimas.{}\\n'.format(attr))\n",
    "    print(\"\"\"\n",
    "    {0}:\n",
    "    \n",
    "    {1}\"\"\".format(attr.upper(),wat))"
   ]
  },
  {
   "cell_type": "code",
   "execution_count": null,
   "metadata": {
    "collapsed": true
   },
   "outputs": [],
   "source": []
  }
 ],
 "metadata": {
  "kernelspec": {
   "display_name": "Python 3",
   "language": "python",
   "name": "python3"
  },
  "language_info": {
   "codemirror_mode": {
    "name": "ipython",
    "version": 3
   },
   "file_extension": ".py",
   "mimetype": "text/x-python",
   "name": "python",
   "nbconvert_exporter": "python",
   "pygments_lexer": "ipython3",
   "version": "3.5.2"
  }
 },
 "nbformat": 4,
 "nbformat_minor": 1
}
