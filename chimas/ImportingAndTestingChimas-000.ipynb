{
 "cells": [
  {
   "cell_type": "markdown",
   "metadata": {},
   "source": [
    "# Importing and testing Chimas\n",
    "\n",
    "## or\n",
    "\n",
    "## Using Jupyter Notebook for Unit Testing"
   ]
  },
  {
   "cell_type": "markdown",
   "metadata": {},
   "source": [
    "As 'chimas' python package is not installed by `pip` and it is in the current directory, we cannot import it."
   ]
  },
  {
   "cell_type": "code",
   "execution_count": 1,
   "metadata": {
    "collapsed": false
   },
   "outputs": [
    {
     "ename": "ImportError",
     "evalue": "No module named 'chimas'",
     "output_type": "error",
     "traceback": [
      "\u001b[0;31m---------------------------------------------------------------------------\u001b[0m",
      "\u001b[0;31mImportError\u001b[0m                               Traceback (most recent call last)",
      "\u001b[0;32m<ipython-input-1-3ee6eb7b75fa>\u001b[0m in \u001b[0;36m<module>\u001b[0;34m()\u001b[0m\n\u001b[0;32m----> 1\u001b[0;31m \u001b[0;32mimport\u001b[0m \u001b[0mchimas\u001b[0m\u001b[0;34m\u001b[0m\u001b[0m\n\u001b[0m",
      "\u001b[0;31mImportError\u001b[0m: No module named 'chimas'"
     ]
    }
   ],
   "source": [
    "import chimas"
   ]
  },
  {
   "cell_type": "markdown",
   "metadata": {},
   "source": [
    "### But maybe we can if...\n",
    "\n",
    "As seen here http://stackoverflow.com/questions/1112618/import-python-package-from-local-directory-into-interpreter\n",
    "\n",
    "But maybe we can if we add the parent directory to the python's `sys.path`"
   ]
  },
  {
   "cell_type": "code",
   "execution_count": 3,
   "metadata": {
    "collapsed": false
   },
   "outputs": [
    {
     "data": {
      "text/plain": [
       "['',\n",
       " '/home/iacchus/git-stuff/chimas',\n",
       " '/home/iacchus/git-stuff/chimas/venv/lib/python35.zip',\n",
       " '/home/iacchus/git-stuff/chimas/venv/lib/python3.5',\n",
       " '/home/iacchus/git-stuff/chimas/venv/lib/python3.5/plat-linux',\n",
       " '/home/iacchus/git-stuff/chimas/venv/lib/python3.5/lib-dynload',\n",
       " '/usr/lib64/python3.5',\n",
       " '/usr/lib/python3.5',\n",
       " '/usr/lib/python3.5/plat-linux',\n",
       " '/home/iacchus/git-stuff/chimas/venv/lib/python3.5/site-packages',\n",
       " '/home/iacchus/git-stuff/chimas/venv/lib/python3.5/site-packages/IPython/extensions',\n",
       " '/home/iacchus/.ipython']"
      ]
     },
     "execution_count": 3,
     "metadata": {},
     "output_type": "execute_result"
    }
   ],
   "source": [
    "import sys\n",
    "sys.path"
   ]
  },
  {
   "cell_type": "code",
   "execution_count": 9,
   "metadata": {
    "collapsed": false
   },
   "outputs": [
    {
     "data": {
      "text/plain": [
       "'/home/iacchus/git-stuff'"
      ]
     },
     "execution_count": 9,
     "metadata": {},
     "output_type": "execute_result"
    }
   ],
   "source": [
    "from pathlib import Path\n",
    "parent_directory = str(Path().resolve().parent)\n",
    "\n",
    "parent_directory"
   ]
  },
  {
   "cell_type": "code",
   "execution_count": 10,
   "metadata": {
    "collapsed": true
   },
   "outputs": [],
   "source": [
    "sys.path.append(parent_directory)"
   ]
  },
  {
   "cell_type": "code",
   "execution_count": 11,
   "metadata": {
    "collapsed": false
   },
   "outputs": [
    {
     "data": {
      "text/plain": [
       "['',\n",
       " '/home/iacchus/git-stuff/chimas',\n",
       " '/home/iacchus/git-stuff/chimas/venv/lib/python35.zip',\n",
       " '/home/iacchus/git-stuff/chimas/venv/lib/python3.5',\n",
       " '/home/iacchus/git-stuff/chimas/venv/lib/python3.5/plat-linux',\n",
       " '/home/iacchus/git-stuff/chimas/venv/lib/python3.5/lib-dynload',\n",
       " '/usr/lib64/python3.5',\n",
       " '/usr/lib/python3.5',\n",
       " '/usr/lib/python3.5/plat-linux',\n",
       " '/home/iacchus/git-stuff/chimas/venv/lib/python3.5/site-packages',\n",
       " '/home/iacchus/git-stuff/chimas/venv/lib/python3.5/site-packages/IPython/extensions',\n",
       " '/home/iacchus/.ipython',\n",
       " '/home/iacchus/git-stuff']"
      ]
     },
     "execution_count": 11,
     "metadata": {},
     "output_type": "execute_result"
    }
   ],
   "source": [
    "sys.path"
   ]
  },
  {
   "cell_type": "markdown",
   "metadata": {},
   "source": [
    "### So...\n",
    "\n",
    "..let's try again!"
   ]
  },
  {
   "cell_type": "code",
   "execution_count": 13,
   "metadata": {
    "collapsed": false
   },
   "outputs": [
    {
     "name": "stdout",
     "output_type": "stream",
     "text": [
      "HEllo i am core.__init__ and __file__ is/home/iacchus/git-stuff/chimas/core/__init__.py\n"
     ]
    }
   ],
   "source": [
    "import chimas"
   ]
  },
  {
   "cell_type": "code",
   "execution_count": 14,
   "metadata": {
    "collapsed": false
   },
   "outputs": [
    {
     "data": {
      "text/plain": [
       "['__builtins__',\n",
       " '__cached__',\n",
       " '__doc__',\n",
       " '__file__',\n",
       " '__loader__',\n",
       " '__name__',\n",
       " '__package__',\n",
       " '__path__',\n",
       " '__spec__',\n",
       " 'core']"
      ]
     },
     "execution_count": 14,
     "metadata": {},
     "output_type": "execute_result"
    }
   ],
   "source": [
    "dir(chimas)"
   ]
  },
  {
   "cell_type": "code",
   "execution_count": null,
   "metadata": {
    "collapsed": true
   },
   "outputs": [],
   "source": []
  }
 ],
 "metadata": {
  "kernelspec": {
   "display_name": "Python 3",
   "language": "python",
   "name": "python3"
  },
  "language_info": {
   "codemirror_mode": {
    "name": "ipython",
    "version": 3
   },
   "file_extension": ".py",
   "mimetype": "text/x-python",
   "name": "python",
   "nbconvert_exporter": "python",
   "pygments_lexer": "ipython3",
   "version": "3.5.2"
  }
 },
 "nbformat": 4,
 "nbformat_minor": 1
}
