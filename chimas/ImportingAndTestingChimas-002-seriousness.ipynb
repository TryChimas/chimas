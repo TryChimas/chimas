{
 "cells": [
  {
   "cell_type": "markdown",
   "metadata": {},
   "source": [
    "# Unit Testing Chimas"
   ]
  },
  {
   "cell_type": "markdown",
   "metadata": {},
   "source": [
    "As 'chimas' python package is not installed by `pip` and it is in the current directory, we should add it's parent directory to `sys.path` before importing it."
   ]
  },
  {
   "cell_type": "code",
   "execution_count": 1,
   "metadata": {
    "collapsed": false
   },
   "outputs": [
    {
     "name": "stdout",
     "output_type": "stream",
     "text": [
      "HEllo i am core.__init__ and __file__ is/home/iacchus/git-stuff/chimas/core/__init__.py\n"
     ]
    }
   ],
   "source": [
    "import sys\n",
    "from pathlib import Path\n",
    "\n",
    "parent_directory = str(Path().resolve().parent)\n",
    "sys.path.append(parent_directory)\n",
    "\n",
    "import chimas"
   ]
  },
  {
   "cell_type": "code",
   "execution_count": 2,
   "metadata": {
    "collapsed": true
   },
   "outputs": [],
   "source": [
    "import chimasapp"
   ]
  },
  {
   "cell_type": "code",
   "execution_count": 4,
   "metadata": {
    "collapsed": false
   },
   "outputs": [
    {
     "data": {
      "text/plain": [
       "['Chimas',\n",
       " 'DispatcherMiddleware',\n",
       " 'ROOT_PATH',\n",
       " '__builtins__',\n",
       " '__cached__',\n",
       " '__doc__',\n",
       " '__file__',\n",
       " '__loader__',\n",
       " '__name__',\n",
       " '__package__',\n",
       " '__spec__',\n",
       " 'chimascli',\n",
       " 'click',\n",
       " 'debug',\n",
       " 'init',\n",
       " 'os',\n",
       " 'run_chimas',\n",
       " 'start',\n",
       " 'sys']"
      ]
     },
     "execution_count": 4,
     "metadata": {},
     "output_type": "execute_result"
    }
   ],
   "source": [
    "dir (chimasapp)"
   ]
  },
  {
   "cell_type": "code",
   "execution_count": 6,
   "metadata": {
    "collapsed": false
   },
   "outputs": [
    {
     "data": {
      "text/plain": [
       "['Chimas',\n",
       " 'CommonAPI',\n",
       " 'ETC_PATH',\n",
       " 'Flask',\n",
       " 'ROOT_PATH',\n",
       " 'ResponseBase',\n",
       " 'SQLAlchemy',\n",
       " 'Schema',\n",
       " '__builtins__',\n",
       " '__cached__',\n",
       " '__doc__',\n",
       " '__file__',\n",
       " '__loader__',\n",
       " '__name__',\n",
       " '__package__',\n",
       " '__path__',\n",
       " '__spec__',\n",
       " 'authentication',\n",
       " 'authorization',\n",
       " 'boards',\n",
       " 'config',\n",
       " 'datetime',\n",
       " 'errorhandling',\n",
       " 'fields',\n",
       " 'login',\n",
       " 'posts',\n",
       " 'roles',\n",
       " 'sqla',\n",
       " 'sys',\n",
       " 'threads',\n",
       " 'timetokens',\n",
       " 'topics',\n",
       " 'users',\n",
       " 'utils',\n",
       " 'validators']"
      ]
     },
     "execution_count": 6,
     "metadata": {},
     "output_type": "execute_result"
    }
   ],
   "source": [
    "dir (chimas.core)"
   ]
  },
  {
   "cell_type": "code",
   "execution_count": null,
   "metadata": {
    "collapsed": true
   },
   "outputs": [],
   "source": []
  }
 ],
 "metadata": {
  "kernelspec": {
   "display_name": "Python 3",
   "language": "python",
   "name": "python3"
  },
  "language_info": {
   "codemirror_mode": {
    "name": "ipython",
    "version": 3
   },
   "file_extension": ".py",
   "mimetype": "text/x-python",
   "name": "python",
   "nbconvert_exporter": "python",
   "pygments_lexer": "ipython3",
   "version": "3.5.2"
  }
 },
 "nbformat": 4,
 "nbformat_minor": 1
}
